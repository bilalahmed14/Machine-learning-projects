{
  "cells": [
    {
      "cell_type": "markdown",
      "metadata": {
        "colab_type": "text",
        "id": "3DR-eO17geWu"
      },
      "source": [
        "# Convolutional Neural Network"
      ]
    },
    {
      "cell_type": "markdown",
      "metadata": {
        "colab_type": "text",
        "id": "EMefrVPCg-60"
      },
      "source": [
        "### Importing the libraries"
      ]
    },
    {
      "cell_type": "code",
      "execution_count": 1,
      "metadata": {
        "colab": {},
        "colab_type": "code",
        "id": "sCV30xyVhFbE"
      },
      "outputs": [],
      "source": [
        "import tensorflow as tf\n",
        "from keras.preprocessing.image import ImageDataGenerator"
      ]
    },
    {
      "cell_type": "markdown",
      "metadata": {
        "colab_type": "text",
        "id": "oxQxCBWyoGPE"
      },
      "source": [
        "## Part 1 - Data Preprocessing"
      ]
    },
    {
      "cell_type": "markdown",
      "metadata": {
        "colab_type": "text",
        "id": "MvE-heJNo3GG"
      },
      "source": [
        "### Preprocessing the Training set"
      ]
    },
    {
      "cell_type": "code",
      "execution_count": 2,
      "metadata": {
        "colab": {},
        "colab_type": "code",
        "id": "0koUcJMJpEBD"
      },
      "outputs": [
        {
          "name": "stdout",
          "output_type": "stream",
          "text": [
            "Found 8000 images belonging to 2 classes.\n"
          ]
        }
      ],
      "source": [
        "train_datagen = ImageDataGenerator(rescale = 1./255,\n",
        "                                   shear_range = 0.2,\n",
        "                                   zoom_range = 0.2,\n",
        "                                   horizontal_flip = True)\n",
        "training_set = train_datagen.flow_from_directory('D:/ML/Projects/dataset/training_set',\n",
        "                                                 target_size = (64, 64),\n",
        "                                                 batch_size = 32,\n",
        "                                                 class_mode = 'binary')"
      ]
    },
    {
      "cell_type": "markdown",
      "metadata": {
        "colab_type": "text",
        "id": "mrCMmGw9pHys"
      },
      "source": [
        "### Preprocessing the Test set"
      ]
    },
    {
      "cell_type": "code",
      "execution_count": 3,
      "metadata": {
        "colab": {},
        "colab_type": "code",
        "id": "SH4WzfOhpKc3"
      },
      "outputs": [
        {
          "name": "stdout",
          "output_type": "stream",
          "text": [
            "Found 2000 images belonging to 2 classes.\n"
          ]
        }
      ],
      "source": [
        "test_datagen = ImageDataGenerator(rescale = 1./255)\n",
        "test_set = test_datagen.flow_from_directory('D:/ML/Projects/dataset/test_set',\n",
        "                                            target_size = (64, 64),\n",
        "                                            batch_size = 32,\n",
        "                                            class_mode = 'binary')"
      ]
    },
    {
      "cell_type": "markdown",
      "metadata": {
        "colab_type": "text",
        "id": "af8O4l90gk7B"
      },
      "source": [
        "## Part 2 - Building the CNN"
      ]
    },
    {
      "cell_type": "markdown",
      "metadata": {
        "colab_type": "text",
        "id": "ces1gXY2lmoX"
      },
      "source": [
        "### Initialising the CNN"
      ]
    },
    {
      "cell_type": "code",
      "execution_count": 4,
      "metadata": {
        "colab": {},
        "colab_type": "code",
        "id": "SAUt4UMPlhLS"
      },
      "outputs": [],
      "source": [
        "cnn = tf.keras.models.Sequential()"
      ]
    },
    {
      "cell_type": "markdown",
      "metadata": {
        "colab_type": "text",
        "id": "u5YJj_XMl5LF"
      },
      "source": [
        "### Step 1 - Convolution"
      ]
    },
    {
      "cell_type": "code",
      "execution_count": 5,
      "metadata": {
        "colab": {},
        "colab_type": "code",
        "id": "XPzPrMckl-hV"
      },
      "outputs": [],
      "source": [
        "cnn.add(tf.keras.layers.Conv2D(filters=32, kernel_size=3, activation='relu', input_shape=[64, 64, 3]))"
      ]
    },
    {
      "cell_type": "markdown",
      "metadata": {
        "colab_type": "text",
        "id": "tf87FpvxmNOJ"
      },
      "source": [
        "### Step 2 - Pooling"
      ]
    },
    {
      "cell_type": "code",
      "execution_count": 6,
      "metadata": {
        "colab": {},
        "colab_type": "code",
        "id": "ncpqPl69mOac"
      },
      "outputs": [],
      "source": [
        "cnn.add(tf.keras.layers.MaxPool2D(pool_size=2, strides=2))"
      ]
    },
    {
      "cell_type": "markdown",
      "metadata": {
        "colab_type": "text",
        "id": "xaTOgD8rm4mU"
      },
      "source": [
        "### Adding a second convolutional layer"
      ]
    },
    {
      "cell_type": "code",
      "execution_count": 7,
      "metadata": {
        "colab": {},
        "colab_type": "code",
        "id": "i_-FZjn_m8gk"
      },
      "outputs": [],
      "source": [
        "cnn.add(tf.keras.layers.Conv2D(filters=32, kernel_size=3, activation='relu'))\n",
        "cnn.add(tf.keras.layers.MaxPool2D(pool_size=2, strides=2))"
      ]
    },
    {
      "cell_type": "markdown",
      "metadata": {
        "colab_type": "text",
        "id": "tmiEuvTunKfk"
      },
      "source": [
        "### Step 3 - Flattening"
      ]
    },
    {
      "cell_type": "code",
      "execution_count": 8,
      "metadata": {
        "colab": {},
        "colab_type": "code",
        "id": "6AZeOGCvnNZn"
      },
      "outputs": [],
      "source": [
        "cnn.add(tf.keras.layers.Flatten())"
      ]
    },
    {
      "cell_type": "markdown",
      "metadata": {
        "colab_type": "text",
        "id": "dAoSECOm203v"
      },
      "source": [
        "### Step 4 - Full Connection"
      ]
    },
    {
      "cell_type": "code",
      "execution_count": 9,
      "metadata": {
        "colab": {},
        "colab_type": "code",
        "id": "8GtmUlLd26Nq"
      },
      "outputs": [],
      "source": [
        "cnn.add(tf.keras.layers.Dense(units=128, activation='relu'))"
      ]
    },
    {
      "cell_type": "markdown",
      "metadata": {
        "colab_type": "text",
        "id": "yTldFvbX28Na"
      },
      "source": [
        "### Step 5 - Output Layer"
      ]
    },
    {
      "cell_type": "code",
      "execution_count": 10,
      "metadata": {
        "colab": {},
        "colab_type": "code",
        "id": "1p_Zj1Mc3Ko_"
      },
      "outputs": [],
      "source": [
        "cnn.add(tf.keras.layers.Dense(units=1, activation='sigmoid'))"
      ]
    },
    {
      "cell_type": "markdown",
      "metadata": {
        "colab_type": "text",
        "id": "D6XkI90snSDl"
      },
      "source": [
        "## Part 3 - Training the CNN"
      ]
    },
    {
      "cell_type": "markdown",
      "metadata": {
        "colab_type": "text",
        "id": "vfrFQACEnc6i"
      },
      "source": [
        "### Compiling the CNN"
      ]
    },
    {
      "cell_type": "code",
      "execution_count": 11,
      "metadata": {
        "colab": {},
        "colab_type": "code",
        "id": "NALksrNQpUlJ"
      },
      "outputs": [],
      "source": [
        "cnn.compile(optimizer = 'adam', loss = 'binary_crossentropy', metrics = ['accuracy'])"
      ]
    },
    {
      "cell_type": "markdown",
      "metadata": {
        "colab_type": "text",
        "id": "ehS-v3MIpX2h"
      },
      "source": [
        "### Training the CNN on the Training set and evaluating it on the Test set"
      ]
    },
    {
      "cell_type": "code",
      "execution_count": 12,
      "metadata": {
        "colab": {},
        "colab_type": "code",
        "id": "XUj1W4PJptta"
      },
      "outputs": [
        {
          "name": "stdout",
          "output_type": "stream",
          "text": [
            "Epoch 1/25\n",
            "250/250 [==============================] - 51s 202ms/step - loss: 0.6773 - accuracy: 0.5690 - val_loss: 0.6457 - val_accuracy: 0.6370\n",
            "Epoch 2/25\n",
            "250/250 [==============================] - 26s 103ms/step - loss: 0.6251 - accuracy: 0.6510 - val_loss: 0.5996 - val_accuracy: 0.6795\n",
            "Epoch 3/25\n",
            "250/250 [==============================] - 27s 106ms/step - loss: 0.5797 - accuracy: 0.6879 - val_loss: 0.5843 - val_accuracy: 0.7015\n",
            "Epoch 4/25\n",
            "250/250 [==============================] - 26s 104ms/step - loss: 0.5455 - accuracy: 0.7243 - val_loss: 0.5296 - val_accuracy: 0.7535\n",
            "Epoch 5/25\n",
            "250/250 [==============================] - 26s 104ms/step - loss: 0.5246 - accuracy: 0.7349 - val_loss: 0.5247 - val_accuracy: 0.7555\n",
            "Epoch 6/25\n",
            "250/250 [==============================] - 26s 105ms/step - loss: 0.4951 - accuracy: 0.7566 - val_loss: 0.5246 - val_accuracy: 0.7520\n",
            "Epoch 7/25\n",
            "250/250 [==============================] - 26s 104ms/step - loss: 0.4733 - accuracy: 0.7706 - val_loss: 0.5101 - val_accuracy: 0.7655\n",
            "Epoch 8/25\n",
            "250/250 [==============================] - 27s 106ms/step - loss: 0.4707 - accuracy: 0.7750 - val_loss: 0.5467 - val_accuracy: 0.7330\n",
            "Epoch 9/25\n",
            "250/250 [==============================] - 26s 105ms/step - loss: 0.4467 - accuracy: 0.7943 - val_loss: 0.5322 - val_accuracy: 0.7620\n",
            "Epoch 10/25\n",
            "250/250 [==============================] - 26s 106ms/step - loss: 0.4368 - accuracy: 0.7944 - val_loss: 0.5325 - val_accuracy: 0.7505\n",
            "Epoch 11/25\n",
            "250/250 [==============================] - 27s 106ms/step - loss: 0.4293 - accuracy: 0.8045 - val_loss: 0.4890 - val_accuracy: 0.7815\n",
            "Epoch 12/25\n",
            "250/250 [==============================] - 26s 104ms/step - loss: 0.4021 - accuracy: 0.8129 - val_loss: 0.5210 - val_accuracy: 0.7720\n",
            "Epoch 13/25\n",
            "250/250 [==============================] - 26s 106ms/step - loss: 0.3942 - accuracy: 0.8186 - val_loss: 0.4877 - val_accuracy: 0.7885\n",
            "Epoch 14/25\n",
            "250/250 [==============================] - 26s 105ms/step - loss: 0.3911 - accuracy: 0.8215 - val_loss: 0.6230 - val_accuracy: 0.7315\n",
            "Epoch 15/25\n",
            "250/250 [==============================] - 26s 103ms/step - loss: 0.3720 - accuracy: 0.8275 - val_loss: 0.5719 - val_accuracy: 0.7430\n",
            "Epoch 16/25\n",
            "250/250 [==============================] - 26s 106ms/step - loss: 0.3556 - accuracy: 0.8379 - val_loss: 0.4900 - val_accuracy: 0.7865\n",
            "Epoch 17/25\n",
            "250/250 [==============================] - 26s 104ms/step - loss: 0.3455 - accuracy: 0.8519 - val_loss: 0.4906 - val_accuracy: 0.7895\n",
            "Epoch 18/25\n",
            "250/250 [==============================] - 26s 105ms/step - loss: 0.3254 - accuracy: 0.8533 - val_loss: 0.5733 - val_accuracy: 0.7650\n",
            "Epoch 19/25\n",
            "250/250 [==============================] - 26s 104ms/step - loss: 0.3220 - accuracy: 0.8584 - val_loss: 0.4824 - val_accuracy: 0.7965\n",
            "Epoch 20/25\n",
            "250/250 [==============================] - 26s 104ms/step - loss: 0.2980 - accuracy: 0.8735 - val_loss: 0.4995 - val_accuracy: 0.7950\n",
            "Epoch 21/25\n",
            "250/250 [==============================] - 27s 107ms/step - loss: 0.2874 - accuracy: 0.8796 - val_loss: 0.5029 - val_accuracy: 0.8010\n",
            "Epoch 22/25\n",
            "250/250 [==============================] - 26s 104ms/step - loss: 0.2789 - accuracy: 0.8769 - val_loss: 0.5664 - val_accuracy: 0.7995\n",
            "Epoch 23/25\n",
            "250/250 [==============================] - 26s 104ms/step - loss: 0.2572 - accuracy: 0.8928 - val_loss: 0.5568 - val_accuracy: 0.8040\n",
            "Epoch 24/25\n",
            "250/250 [==============================] - 26s 105ms/step - loss: 0.2575 - accuracy: 0.8921 - val_loss: 0.5897 - val_accuracy: 0.7745\n",
            "Epoch 25/25\n",
            "250/250 [==============================] - 26s 103ms/step - loss: 0.2375 - accuracy: 0.9015 - val_loss: 0.5332 - val_accuracy: 0.7925\n"
          ]
        },
        {
          "data": {
            "text/plain": [
              "<keras.callbacks.History at 0x1cd4279c460>"
            ]
          },
          "execution_count": 12,
          "metadata": {},
          "output_type": "execute_result"
        }
      ],
      "source": [
        "cnn.fit(x = training_set, validation_data = test_set, epochs = 25)"
      ]
    },
    {
      "cell_type": "markdown",
      "metadata": {
        "colab_type": "text",
        "id": "U3PZasO0006Z"
      },
      "source": [
        "## Part 4 - Making a single prediction"
      ]
    },
    {
      "cell_type": "code",
      "execution_count": 19,
      "metadata": {
        "colab": {},
        "colab_type": "code",
        "id": "gsSiWEJY1BPB"
      },
      "outputs": [
        {
          "name": "stdout",
          "output_type": "stream",
          "text": [
            "1/1 [==============================] - 0s 82ms/step\n"
          ]
        }
      ],
      "source": [
        "import numpy as np\n",
        "from keras.utils import load_img, img_to_array\n",
        "test_image = load_img('D:/ML/Projects/dataset/single_prediction/cat_or_dog_1.jpg', target_size = (64, 64))\n",
        "test_image = img_to_array(test_image)\n",
        "test_image = np.expand_dims(test_image, axis = 0)\n",
        "result = cnn.predict(test_image)\n",
        "training_set.class_indices\n",
        "if result[0][0] == 1:\n",
        "  prediction = 'dog'\n",
        "else:\n",
        "  prediction = 'cat'"
      ]
    },
    {
      "cell_type": "code",
      "execution_count": 20,
      "metadata": {
        "colab": {},
        "colab_type": "code",
        "id": "ED9KB3I54c1i"
      },
      "outputs": [
        {
          "name": "stdout",
          "output_type": "stream",
          "text": [
            "dog\n"
          ]
        }
      ],
      "source": [
        "print(prediction)"
      ]
    },
    {
      "cell_type": "code",
      "execution_count": null,
      "metadata": {},
      "outputs": [],
      "source": []
    }
  ],
  "metadata": {
    "colab": {
      "collapsed_sections": [],
      "name": "convolutional_neural_network.ipynb",
      "provenance": [],
      "toc_visible": true
    },
    "kernelspec": {
      "display_name": "base",
      "language": "python",
      "name": "python3"
    },
    "language_info": {
      "codemirror_mode": {
        "name": "ipython",
        "version": 3
      },
      "file_extension": ".py",
      "mimetype": "text/x-python",
      "name": "python",
      "nbconvert_exporter": "python",
      "pygments_lexer": "ipython3",
      "version": "3.9.12"
    },
    "vscode": {
      "interpreter": {
        "hash": "ad2bdc8ecc057115af97d19610ffacc2b4e99fae6737bb82f5d7fb13d2f2c186"
      }
    }
  },
  "nbformat": 4,
  "nbformat_minor": 0
}
